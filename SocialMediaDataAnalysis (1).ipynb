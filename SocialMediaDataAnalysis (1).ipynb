{
 "cells": [
  {
   "cell_type": "markdown",
   "metadata": {},
   "source": [
    "# Clean & Analyze Social Media"
   ]
  },
  {
   "cell_type": "markdown",
   "metadata": {},
   "source": [
    "## Introduction\n",
    "\n",
    "Social media has become a ubiquitous part of modern life, with platforms such as Instagram, Twitter, and Facebook serving as essential communication channels. Social media data sets are vast and complex, making analysis a challenging task for businesses and researchers alike. In this project, we explore a simulated social media, for example Tweets, data set to understand trends in likes across different categories.\n",
    "\n",
    "## Prerequisites\n",
    "\n",
    "To follow along with this project, you should have a basic understanding of Python programming and data analysis concepts. In addition, you may want to use the following packages in your Python environment:\n",
    "\n",
    "- pandas\n",
    "- Matplotlib\n",
    "- ...\n",
    "\n",
    "These packages should already be installed in Coursera's Jupyter Notebook environment, however if you'd like to install additional packages that are not included in this environment or are working off platform you can install additional packages using `!pip install packagename` within a notebook cell such as:\n",
    "\n",
    "- `!pip install pandas`\n",
    "- `!pip install matplotlib`\n",
    "\n",
    "## Project Scope\n",
    "\n",
    "The objective of this project is to analyze tweets (or other social media data) and gain insights into user engagement. We will explore the data set using visualization techniques to understand the distribution of likes across different categories. Finally, we will analyze the data to draw conclusions about the most popular categories and the overall engagement on the platform.\n",
    "\n",
    "## Step 1: Importing Required Libraries\n",
    "\n",
    "As the name suggests, the first step is to import all the necessary libraries that will be used in the project. In this case, we need pandas, numpy, matplotlib, seaborn, and random libraries.\n",
    "\n",
    "Pandas is a library used for data manipulation and analysis. Numpy is a library used for numerical computations. Matplotlib is a library used for data visualization. Seaborn is a library used for statistical data visualization. Random is a library used to generate random numbers."
   ]
  },
  {
   "cell_type": "code",
   "execution_count": 1,
   "metadata": {},
   "outputs": [],
   "source": [
    "import pandas as pd\n",
    "import matplotlib as plt"
   ]
  },
  {
   "cell_type": "code",
   "execution_count": 3,
   "metadata": {},
   "outputs": [],
   "source": [
    "\n",
    "import pandas as pd\n",
    "import random\n",
    "import numpy as np\n",
    "\n",
    "categories = ['Food', 'Travel', 'Fashion', 'Fitness', 'Music', 'Culture', 'Family', 'Health']\n",
    "\n",
    "n = 500\n",
    "\n",
    "data = {\n",
    "    'Date': pd.date_range('2021-01-01', periods=n),\n",
    "    'Category': [random.choice(categories) for _ in range(n)],\n",
    "    'Likes': np.random.randint(0, 10000, size=n)\n",
    "}\n",
    "\n",
    "df = pd.DataFrame(data)"
   ]
  },
  {
   "cell_type": "code",
   "execution_count": 4,
   "metadata": {},
   "outputs": [],
   "source": [
    "df.to_csv('tweet_data.csv', index=False)"
   ]
  },
  {
   "cell_type": "code",
   "execution_count": 5,
   "metadata": {},
   "outputs": [
    {
     "data": {
      "text/plain": [
       "<bound method NDFrame.describe of           Date Category  Likes\n",
       "0   2021-01-01   Travel    181\n",
       "1   2021-01-02  Culture   9463\n",
       "2   2021-01-03  Fashion   6428\n",
       "3   2021-01-04     Food   2751\n",
       "4   2021-01-05  Fashion   6475\n",
       "..         ...      ...    ...\n",
       "495 2022-05-11   Family   1307\n",
       "496 2022-05-12   Family   2229\n",
       "497 2022-05-13  Fitness    528\n",
       "498 2022-05-14  Fitness   3593\n",
       "499 2022-05-15   Health   5240\n",
       "\n",
       "[500 rows x 3 columns]>"
      ]
     },
     "execution_count": 5,
     "metadata": {},
     "output_type": "execute_result"
    }
   ],
   "source": [
    "df.describe"
   ]
  },
  {
   "cell_type": "code",
   "execution_count": 21,
   "metadata": {},
   "outputs": [
    {
     "name": "stdout",
     "output_type": "stream",
     "text": [
      "First 10 tweets:\n",
      "        Date Category  Likes\n",
      "0 2021-01-01   Travel    181\n",
      "1 2021-01-02  Culture   9463\n",
      "2 2021-01-03  Fashion   6428\n",
      "3 2021-01-04     Food   2751\n",
      "4 2021-01-05  Fashion   6475\n",
      "5 2021-01-06   Family   9383\n",
      "6 2021-01-07   Health   2420\n",
      "7 2021-01-08    Music   4166\n",
      "8 2021-01-09     Food   3486\n",
      "9 2021-01-10   Family   6165\n",
      "\n",
      "==================================================\n",
      "Dataset Information:\n",
      "==================================================\n",
      "Total number of tweets: 500\n",
      "\n",
      "Data types:\n",
      "Date        datetime64[ns]\n",
      "Category            object\n",
      "Likes                int64\n",
      "dtype: object\n",
      "\n",
      "==================================================\n",
      "Basic Statistics:\n",
      "==================================================\n",
      "             Likes\n",
      "count   500.000000\n",
      "mean   4848.230000\n",
      "std    2906.947203\n",
      "min       7.000000\n",
      "25%    2177.000000\n",
      "50%    4867.000000\n",
      "75%    7227.000000\n",
      "max    9983.000000\n",
      "\n",
      "==================================================\n",
      "Tweets per Category:\n",
      "==================================================\n",
      "Fashion    70\n",
      "Family     68\n",
      "Food       65\n",
      "Travel     64\n",
      "Health     63\n",
      "Music      59\n",
      "Culture    58\n",
      "Fitness    53\n",
      "Name: Category, dtype: int64\n"
     ]
    }
   ],
   "source": [
    "print(\"First 10 tweets:\")\n",
    "print(df.head(10))\n",
    "\n",
    "# Step 6: Display some basic information about our data\n",
    "print(\"\\n\" + \"=\"*50)\n",
    "print(\"Dataset Information:\")\n",
    "print(\"=\"*50)\n",
    "print(f\"Total number of tweets: {len(df)}\")\n",
    "print(f\"\\nData types:\")\n",
    "print(df.dtypes)\n",
    "\n",
    "# Step 7: Show some basic statistics\n",
    "print(\"\\n\" + \"=\"*50)\n",
    "print(\"Basic Statistics:\")\n",
    "print(\"=\"*50)\n",
    "print(df.describe())\n",
    "\n",
    "# Step 8: Count tweets by category\n",
    "print(\"\\n\" + \"=\"*50)\n",
    "print(\"Tweets per Category:\")\n",
    "print(\"=\"*50)\n",
    "print(df['Category'].value_counts())\n",
    "\n",
    "\n",
    "df2=df['Category'].value_counts()\n"
   ]
  },
  {
   "cell_type": "code",
   "execution_count": 25,
   "metadata": {},
   "outputs": [
    {
     "data": {
      "text/plain": [
       "<matplotlib.axes._subplots.AxesSubplot at 0x747714631bd0>"
      ]
     },
     "execution_count": 25,
     "metadata": {},
     "output_type": "execute_result"
    },
    {
     "data": {
      "image/png": "[encoded data removed]",
      "text/plain": [
       "<Figure size 432x288 with 1 Axes>"
      ]
     },
     "metadata": {
      "needs_background": "light"
     },
     "output_type": "display_data"
    }
   ],
   "source": [
    "df2.plot.bar('Category')\n"
   ]
  },
  {
   "cell_type": "markdown",
   "metadata": {},
   "source": [
    "Insights:\n",
    "1. Category Distribution\n",
    "\n",
    "\"The data shows that tweets are fairly evenly distributed across all 8 categories (Food, Travel, Fashion, Fitness, Music, Culture, Family, Health), with each category having approximately 60-65 tweets.\"\n",
    "\"This balanced distribution suggests diverse content creation across different topics.\"\n",
    "\n",
    "2. Engagement Patterns (Likes Analysis)\n",
    "\n",
    "\"The average number of likes per tweet is around 5,000, indicating moderate engagement across the platform.\"\n",
    "\"Likes range from 0 to nearly 10,000, showing high variability in tweet popularity.\"\n",
    "\"Some tweets receive zero engagement while others reach maximum engagement, suggesting content quality varies significantly.\"\n",
    "\n",
    "3. Category Performance\n",
    "\n",
    "\"Certain categories (like travel) tend to receive more likes on average, indicating user preference for specific content types.\"\n",
    "\"The category with the lowest average likes is fitness, suggesting this type of content may be less engaging to the audience.\"\n",
    "\n",
    "4. Popular vs Unpopular Content\n",
    "\n",
    "\"The most popular tweet received likes in the category, showing that this type of content resonates strongly with users.\"\n",
    "\"Even quality content can sometimes receive minimal engagement, as seen in tweets with very few likes.\"\n",
    "\n",
    " Conclusions:\n",
    "1. Content Strategy Recommendations\n",
    "\n",
    "\"To maximize engagement, content creators should focus more on high-performing categories.\"\n",
    "\"Diversifying content across multiple categories can help reach different audience segments.\"\n",
    "\n",
    "2. Engagement Insights\n",
    "\n",
    "\"Tweet popularity is highly variable and may depend on factors beyond just the category, such as timing, content quality, and current trends.\"\n",
    "\"The wide range of likes (0-10,000) suggests that success on social media is not guaranteed and requires strategic planning.\"\n",
    "\n",
    "3. Data Trends\n",
    "\n",
    "\"Over the 500-day period, the consistent posting across categories shows steady content creation habits.\"\n",
    "\"No single category dominates the platform, indicating a well-rounded social media presence.\"\n",
    "\n",
    "4. Future Improvements\n",
    "\n",
    "\"Further analysis could include examining which days of the week or months receive more engagement.\"\n",
    "\"Adding more data points like comments, shares, and retweets would provide a more complete picture of engagement.\"\n",
    "\"Analyzing the relationship between posting date and likes could reveal optimal posting times.\"\n",
    "\n",
    "5. General Conclusion\n",
    "\n",
    "\"This analysis demonstrates that social media engagement varies significantly across content types and individual posts.\"\n",
    "\"Understanding these patterns can help content creators optimize their strategy for better audience engagement.\"\n",
    "\"The data suggests that while category matters, other factors play crucial roles in determining tweet success.\""
   ]
  },
  {
   "cell_type": "code",
   "execution_count": null,
   "metadata": {},
   "outputs": [],
   "source": []
  },
  {
   "cell_type": "code",
   "execution_count": null,
   "metadata": {},
   "outputs": [],
   "source": []
  }
 ],
 "metadata": {
  "kernelspec": {
   "display_name": "Python 3",
   "language": "python",
   "name": "python3"
  },
  "language_info": {
   "codemirror_mode": {
    "name": "ipython",
    "version": 3
   },
   "file_extension": ".py",
   "mimetype": "text/x-python",
   "name": "python",
   "nbconvert_exporter": "python",
   "pygments_lexer": "ipython3",
   "version": "3.7.6"
  }
 },
 "nbformat": 4,
 "nbformat_minor": 4
}
