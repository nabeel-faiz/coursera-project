{
  "nbformat": 4,
  "nbformat_minor": 0,
  "metadata": {
    "colab": {
      "provenance": []
    },
    "kernelspec": {
      "name": "python3",
      "display_name": "Python 3"
    },
    "language_info": {
      "name": "python"
    }
  },
  "cells": [
    {
      "cell_type": "code",
      "execution_count": 1,
      "metadata": {
        "colab": {
          "base_uri": "https://localhost:8080/"
        },
        "id": "QWaNoaYdNUAk",
        "outputId": "237a47a2-77df-4a8c-b3b5-9b4391591269"
      },
      "outputs": [
        {
          "output_type": "stream",
          "name": "stdout",
          "text": [
            "First 10 tweets:\n",
            "        Date Category  Likes\n",
            "0 2021-01-01    Music   9280\n",
            "1 2021-01-02  Culture   3249\n",
            "2 2021-01-03  Fitness   1402\n",
            "3 2021-01-04  Fitness   8882\n",
            "4 2021-01-05  Culture   8507\n",
            "5 2021-01-06   Health   5306\n",
            "6 2021-01-07   Travel   2922\n",
            "7 2021-01-08  Fashion   2963\n",
            "8 2021-01-09   Travel   3900\n",
            "9 2021-01-10  Fitness   8027\n"
          ]
        }
      ],
      "source": [
        "# Import the necessary libraries\n",
        "import pandas as pd\n",
        "import random\n",
        "import numpy as np\n",
        "\n",
        "# Step 1: Define the categories for tweets\n",
        "categories = ['Food', 'Travel', 'Fashion', 'Fitness', 'Music', 'Culture', 'Family', 'Health']\n",
        "\n",
        "# Step 2: Set how many tweets we want to generate\n",
        "n = 500\n",
        "\n",
        "# Step 3: Create a dictionary with random tweet data\n",
        "data = {\n",
        "    'Date': pd.date_range('2021-01-01', periods=n),\n",
        "    'Category': [random.choice(categories) for _ in range(n)],\n",
        "    'Likes': np.random.randint(0, 10000, size=n)\n",
        "}\n",
        "\n",
        "# Step 4: Convert the dictionary into a pandas DataFrame\n",
        "df = pd.DataFrame(data)\n",
        "\n",
        "# Step 5: Display the first few rows to see what we created\n",
        "print(\"First 10 tweets:\")\n",
        "print(df.head(10))"
      ]
    },
    {
      "cell_type": "code",
      "source": [
        "print(df.describe)"
      ],
      "metadata": {
        "colab": {
          "base_uri": "https://localhost:8080/"
        },
        "id": "mjJB03JpOOD6",
        "outputId": "393c007a-f0a7-4f75-971a-f7baec446890"
      },
      "execution_count": 3,
      "outputs": [
        {
          "output_type": "stream",
          "name": "stdout",
          "text": [
            "<bound method NDFrame.describe of           Date Category  Likes\n",
            "0   2021-01-01    Music   9280\n",
            "1   2021-01-02  Culture   3249\n",
            "2   2021-01-03  Fitness   1402\n",
            "3   2021-01-04  Fitness   8882\n",
            "4   2021-01-05  Culture   8507\n",
            "..         ...      ...    ...\n",
            "495 2022-05-11  Culture   3833\n",
            "496 2022-05-12   Travel   9025\n",
            "497 2022-05-13  Culture   2351\n",
            "498 2022-05-14   Travel   5100\n",
            "499 2022-05-15  Fashion   4346\n",
            "\n",
            "[500 rows x 3 columns]>\n"
          ]
        }
      ]
    }
  ]
}